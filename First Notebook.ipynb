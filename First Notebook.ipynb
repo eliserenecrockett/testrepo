{
    "cells": [
        {
            "metadata": {},
            "cell_type": "markdown",
            "source": "# My Jupyter Notebook on IBM Watson Studio"
        },
        {
            "metadata": {},
            "cell_type": "markdown",
            "source": "**Elise Crockett**"
        },
        {
            "metadata": {},
            "cell_type": "markdown",
            "source": "Population Health Analyst "
        },
        {
            "metadata": {},
            "cell_type": "markdown",
            "source": "### My code is adding 10 plus 10 "
        },
        {
            "metadata": {},
            "cell_type": "code",
            "source": "10+10",
            "execution_count": 3,
            "outputs": [
                {
                    "output_type": "execute_result",
                    "execution_count": 3,
                    "data": {
                        "text/plain": "20"
                    },
                    "metadata": {}
                }
            ]
        },
        {
            "metadata": {},
            "cell_type": "markdown",
            "source": " ~~hello world~~ \n \n [I'm an inline-style link with title](https://google.com \"Google's Homepage\")\n \n |State|City|Population|\n |-----|----|----------|\n |California|Los Angeles| 10,000,000|\n |Colorado|Denver|2,000,000|\n |New York|New York City|10,000,000|\n "
        },
        {
            "metadata": {},
            "cell_type": "code",
            "source": "",
            "execution_count": null,
            "outputs": []
        }
    ],
    "metadata": {
        "kernelspec": {
            "name": "python3",
            "display_name": "Python 3.8",
            "language": "python"
        },
        "language_info": {
            "name": "python",
            "version": "3.8.11",
            "mimetype": "text/x-python",
            "codemirror_mode": {
                "name": "ipython",
                "version": 3
            },
            "pygments_lexer": "ipython3",
            "nbconvert_exporter": "python",
            "file_extension": ".py"
        }
    },
    "nbformat": 4,
    "nbformat_minor": 1
}